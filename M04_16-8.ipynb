{
 "cells": [
  {
   "cell_type": "code",
   "execution_count": null,
   "id": "2d8d6813",
   "metadata": {},
   "outputs": [],
   "source": [
    "-- create table query is used to create table.\n",
    "-- Table has 3 attributes:\n",
    "-- title is of type TEXT,it is primary key\n",
    "-- author is of type text.\n",
    "-- year is of type integer.\n",
    "CREATE TABLE books(\n",
    "   title TEXT PRIMARY KEY NOT NULL,\n",
    "   author TEXT NOT NULL,\n",
    "   year INTEGER NOT NULL\n",
    ");"
   ]
  }
 ],
 "metadata": {
  "kernelspec": {
   "display_name": "Python 3 (ipykernel)",
   "language": "python",
   "name": "python3"
  },
  "language_info": {
   "codemirror_mode": {
    "name": "ipython",
    "version": 3
   },
   "file_extension": ".py",
   "mimetype": "text/x-python",
   "name": "python",
   "nbconvert_exporter": "python",
   "pygments_lexer": "ipython3",
   "version": "3.9.12"
  }
 },
 "nbformat": 4,
 "nbformat_minor": 5
}
